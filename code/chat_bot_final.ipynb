{
 "cells": [
  {
   "cell_type": "code",
   "execution_count": null,
   "id": "1930aaaf-3bf1-45df-bb3a-65d204b4b503",
   "metadata": {
    "colab": {
     "base_uri": "https://localhost:8080/",
     "height": 298
    },
    "executionInfo": {
     "elapsed": 12370,
     "status": "error",
     "timestamp": 1706108612217,
     "user": {
      "displayName": "StayTech Rich",
      "userId": "03126141049571690661"
     },
     "user_tz": -540
    },
    "id": "1d37eab5-5332-4cde-bc4b-8d327210ea34",
    "outputId": "635086ea-dcc8-4ed6-a272-4c5ec91fd207"
   },
   "outputs": [],
   "source": [
    "import nltk\n",
    "nltk.download('punkt')\n",
    "nltk.download('wordnet')\n",
    "from nltk.stem import WordNetLemmatizer\n",
    "import json\n",
    "import pickle\n",
    "import numpy as np\n",
    "from keras.models import Sequential\n",
    "from keras.layers import Dense, Activation, Dropout\n",
    "from tensorflow.keras.optimizers import SGD\n",
    "import random\n",
    "\n",
    "# Load WordNetLemmatizer\n",
    "lemmatizer = WordNetLemmatizer()\n",
    "\n",
    "# Load intents from JSON file\n",
    "data_file = open('drone.json', encoding='utf-8').read()\n",
    "intents = json.loads(data_file)\n",
    "\n",
    "# Initialize lists for words, classes, and documents\n",
    "words = []\n",
    "classes = []\n",
    "documents = []\n",
    "ignore_words = ['?', '!']\n",
    "\n",
    "# Preprocess intents data\n",
    "for intent in intents['intents']:\n",
    "    for pattern in intent['patterns']:\n",
    "        w = nltk.word_tokenize(pattern)\n",
    "        words.extend(w)\n",
    "        documents.append((w, intent['tag']))\n",
    "\n",
    "        if intent['tag'] not in classes:\n",
    "            classes.append(intent['tag'])\n",
    "\n",
    "# Lemmatize words and remove duplicates\n",
    "words = [lemmatizer.lemmatize(w.lower()) for w in words if w not in ignore_words]\n",
    "words = sorted(list(set(words)))\n",
    "classes = sorted(list(set(classes)))\n",
    "                                                                         \n",
    "print(len(documents), \"documents\")\n",
    "print(len(classes), \"classes\", classes)\n",
    "print(len(words), \"unique lemmatized words\", words)\n",
    "\n",
    "# Save words and classes to pickle files\n",
    "pickle.dump(words, open('words.pkl', 'wb'))\n",
    "pickle.dump(classes, open('classes.pkl', 'wb'))\n",
    "\n",
    "# Initializing training data\n",
    "training = []\n",
    "output_empty = [0] * len(classes)\n",
    "\n",
    "# Iterate through documents to create training data\n",
    "for doc in documents:\n",
    "    bag = []\n",
    "\n",
    "    # Lemmatize pattern words and create bag-of-words representation\n",
    "    pattern_words = [lemmatizer.lemmatize(word.lower()) for word in doc[0]]\n",
    "    for w in words:\n",
    "        bag.append(1) if w in pattern_words else bag.append(0)\n",
    "\n",
    "    # Create output row (one-hot encoding for the class)\n",
    "    output_row = list(output_empty)\n",
    "    output_row[classes.index(doc[1])] = 1\n",
    "\n",
    "    # Append to training data\n",
    "    training.append([bag, output_row])\n",
    "\n",
    "# Shuffle the training data\n",
    "random.shuffle(training)\n",
    "\n",
    "# Convert training data to NumPy array\n",
    "training = np.array(training, dtype=object)  # Set dtype to object\n",
    "\n",
    "# Extract patterns and intents\n",
    "train_x = list(training[:, 0])\n",
    "train_y = list(training[:, 1])\n",
    "\n",
    "# Create and compile the model\n",
    "model = Sequential()\n",
    "model.add(Dense(128, input_shape=(len(train_x[0]),), activation='relu'))\n",
    "model.add(Dropout(0.5))\n",
    "model.add(Dense(64, activation='relu'))\n",
    "model.add(Dropout(0.5))\n",
    "model.add(Dense(len(train_y[0]), activation='softmax'))\n",
    "\n",
    "sgd = SGD(lr=0.01, decay=1e-6, momentum=0.9, nesterov=True)\n",
    "model.compile(loss='categorical_crossentropy', optimizer=sgd, metrics=['accuracy'])\n",
    "\n",
    "# Fit and save the model\n",
    "hist = model.fit(np.array(train_x), np.array(train_y), epochs=20000, batch_size=8, verbose=1)\n",
    "model.save('chatbot_model.h5', hist)\n",
    "\n",
    "print(\"Model created and trained successfully.\")"
   ]
  },
  {
   "cell_type": "code",
   "execution_count": 2,
   "id": "4bf81025-576e-412b-9d69-992abed33662",
   "metadata": {
    "id": "4bf81025-576e-412b-9d69-992abed33662"
   },
   "outputs": [],
   "source": [
    "import nltk\n",
    "from nltk.stem import WordNetLemmatizer\n",
    "lemmatizer = WordNetLemmatizer()\n",
    "import pickle\n",
    "import numpy as np\n",
    "\n",
    "from keras.models import load_model\n",
    "model = load_model('chatbot_model.h5')\n",
    "import json\n",
    "import random\n",
    "intents = json.loads(open('drone.json', encoding='utf-8').read())\n",
    "words = pickle.load(open('words.pkl','rb'))\n",
    "classes = pickle.load(open('classes.pkl','rb'))\n",
    "\n",
    "\n",
    "def clean_up_sentence(sentence):\n",
    "    sentence_words = nltk.word_tokenize(sentence)\n",
    "    sentence_words = [lemmatizer.lemmatize(word.lower()) for word in sentence_words]\n",
    "    return sentence_words\n",
    "\n",
    "# return bag of words array: 0 or 1 for each word in the bag that exists in the sentence\n",
    "\n",
    "def bow(sentence, words, show_details=True):\n",
    "    # tokenize the pattern\n",
    "    sentence_words = clean_up_sentence(sentence)\n",
    "    # bag of words - matrix of N words, vocabulary matrix\n",
    "    bag = [0]*len(words)\n",
    "    for s in sentence_words:\n",
    "        for i,w in enumerate(words):\n",
    "            if w == s:\n",
    "                # assign 1 if current word is in the vocabulary position\n",
    "                bag[i] = 1\n",
    "                if show_details:\n",
    "                    print (\"found in bag: %s\" % w)\n",
    "    return(np.array(bag))\n",
    "\n",
    "def predict_class(sentence, model):\n",
    "    # filter out predictions below a threshold\n",
    "    p = bow(sentence, words, show_details=False)\n",
    "    res = model.predict(np.array([p]))[0]\n",
    "    ERROR_THRESHOLD = 0.25\n",
    "    results = [[i,r] for i,r in enumerate(res) if r>ERROR_THRESHOLD]\n",
    "    # sort by strength of probability\n",
    "    results.sort(key=lambda x: x[1], reverse=True)\n",
    "    return_list = []\n",
    "    for r in results:\n",
    "        return_list.append({\"intent\": classes[r[0]], \"probability\": str(r[1])})\n",
    "    return return_list\n",
    "\n",
    "def getResponse(ints, intents_json):\n",
    "    tag = ints[0]['intent']\n",
    "    list_of_intents = intents_json['intents']\n",
    "    for i in list_of_intents:\n",
    "        if(i['tag']== tag):\n",
    "            result = random.choice(i['responses'])\n",
    "            break\n",
    "        else:\n",
    "            result = \"You must ask the right questions\"\n",
    "    return result\n",
    "\n",
    "def chatbot_response(msg):\n",
    "    ints = predict_class(msg, model)\n",
    "    res = getResponse(ints, intents)\n",
    "    return res"
   ]
  },
  {
   "cell_type": "code",
   "execution_count": 4,
   "id": "f1b70d43-b3df-47b9-b810-7ad8d3b977b6",
   "metadata": {
    "id": "f1b70d43-b3df-47b9-b810-7ad8d3b977b6",
    "outputId": "c82ce7ff-d256-4700-b4ab-ec1f2278cc5e"
   },
   "outputs": [
    {
     "name": "stdout",
     "output_type": "stream",
     "text": [
      "Chatbot Menu:\n",
      "1. Drone Working Hours\n",
      "2. Drone Price\n",
      "3. Drone Taxi Services\n",
      "4. Drone Safety Features\n",
      "5. Future of Drone Taxis\n",
      "0. Start Chatting\n",
      "q. Quit\n"
     ]
    },
    {
     "name": "stdin",
     "output_type": "stream",
     "text": [
      "Select an option (0-5, q):  0\n"
     ]
    },
    {
     "name": "stdout",
     "output_type": "stream",
     "text": [
      "You are now chatting with the chatbot. Type 'exit' to end the chat.\n"
     ]
    },
    {
     "name": "stdin",
     "output_type": "stream",
     "text": [
      "You:  안잔\n"
     ]
    },
    {
     "name": "stdout",
     "output_type": "stream",
     "text": [
      "Chatbot: 안녕하세요! 질문이 있으신가요?\n"
     ]
    },
    {
     "name": "stdin",
     "output_type": "stream",
     "text": [
      "You:  인녕\n"
     ]
    },
    {
     "name": "stdout",
     "output_type": "stream",
     "text": [
      "Chatbot: 안녕하세요! 질문이 있으신가요?\n"
     ]
    },
    {
     "name": "stdin",
     "output_type": "stream",
     "text": [
      "You:  드론 안전 대책\n"
     ]
    },
    {
     "name": "stdout",
     "output_type": "stream",
     "text": [
      "Chatbot: 드론 택시는 안전을 최우선으로 하며, 비상 상황 시에도 신속하게 대응합니다.\n"
     ]
    },
    {
     "name": "stdin",
     "output_type": "stream",
     "text": [
      "You:  가격\n"
     ]
    },
    {
     "name": "stdout",
     "output_type": "stream",
     "text": [
      "Chatbot: 가격은 경로, 시간 및 수요에 따라 다를 수 있습니다. 정확한 정보를 원하시면 직접 문의해주세요.\n"
     ]
    },
    {
     "name": "stdin",
     "output_type": "stream",
     "text": [
      "You:  exit\n"
     ]
    },
    {
     "name": "stdout",
     "output_type": "stream",
     "text": [
      "Exiting the chat. Goodbye!\n"
     ]
    },
    {
     "name": "stdin",
     "output_type": "stream",
     "text": [
      "Select an option (0-5, q):  q\n"
     ]
    },
    {
     "name": "stdout",
     "output_type": "stream",
     "text": [
      "Quitting the program. Goodbye!\n"
     ]
    }
   ],
   "source": [
    "def drone_working_hours():\n",
    "    return \"Drones typically have a working time ranging from 20 to 30 minutes per battery charge. The exact duration may vary based on the drone model and usage.\"\n",
    "\n",
    "def drone_price():\n",
    "    return \"The price of drones can vary significantly depending on the brand, model, and features. Entry-level drones may start around $100, while professional-grade drones with advanced capabilities can cost several thousand dollars.\"\n",
    "\n",
    "def drone_taxi_services():\n",
    "    return \"Drone taxis are a futuristic mode of transportation where passengers are transported by unmanned aerial vehicles. Imagine skipping traffic and reaching your destination in the sky! While still in the experimental phase, drone taxi services promise a new era of convenient and fast travel.\"\n",
    "\n",
    "def drone_safety_features():\n",
    "    return \"Safety is a top priority in drone taxi services. These vehicles are equipped with advanced sensors, collision avoidance systems, and redundant mechanisms to ensure passenger safety. Additionally, real-time monitoring and control systems are in place to handle any unexpected situations.\"\n",
    "\n",
    "def future_of_drone_taxis():\n",
    "    return \"The future of drone taxis holds exciting possibilities. With ongoing advancements in technology, we can expect improvements in efficiency, longer flight durations, and widespread integration into urban transportation systems. Imagine a world where you can hail a drone taxi with a mobile app!\"\n",
    "\n",
    "def main():\n",
    "    print(\"Chatbot Menu:\")\n",
    "    print(\"1. Drone Working Hours\")\n",
    "    print(\"2. Drone Price\")\n",
    "    print(\"3. Drone Taxi Services\")\n",
    "    print(\"4. Drone Safety Features\")\n",
    "    print(\"5. Future of Drone Taxis\")\n",
    "    print(\"0. Start Chatting\")\n",
    "    print(\"q. Quit\")\n",
    "\n",
    "    while True:\n",
    "        user_input = input(\"Select an option (0-5, q): \")\n",
    "\n",
    "        if user_input.lower() == 'q':\n",
    "            print(\"Quitting the program. Goodbye!\")\n",
    "            break\n",
    "        elif user_input == '0':\n",
    "            print(\"You are now chatting with the chatbot. Type 'exit' to end the chat.\")\n",
    "            while True:\n",
    "                user_input = input(\"You: \")\n",
    "                if user_input.lower() == 'exit':\n",
    "                    print(\"Exiting the chat. Goodbye!\")\n",
    "                    break\n",
    "\n",
    "                response = chatbot_response(user_input)\n",
    "                print(\"Chatbot:\", response)\n",
    "        elif user_input == '1':\n",
    "            response = drone_working_hours()\n",
    "            print(\"Chatbot:\", response)\n",
    "        elif user_input == '2':\n",
    "            response = drone_price()\n",
    "            print(\"Chatbot:\", response)\n",
    "        elif user_input == '3':\n",
    "            response = drone_taxi_services()\n",
    "            print(\"Chatbot:\", response)\n",
    "        elif user_input == '4':\n",
    "            response = drone_safety_features()\n",
    "            print(\"Chatbot:\", response)\n",
    "        elif user_input == '5':\n",
    "            response = future_of_drone_taxis()\n",
    "            print(\"Chatbot:\", response)\n",
    "        else:\n",
    "            print(\"Invalid selection. Please choose a valid option (0-5, q).\")\n",
    "\n",
    "if __name__ == \"__main__\":\n",
    "    main()"
   ]
  },
  {
   "cell_type": "code",
   "execution_count": null,
   "id": "d910f6df-ea08-40bd-9c2b-ea5043b95bc6",
   "metadata": {
    "id": "d910f6df-ea08-40bd-9c2b-ea5043b95bc6"
   },
   "outputs": [],
   "source": []
  },
  {
   "cell_type": "code",
   "execution_count": null,
   "id": "44d42448-67fc-4182-8348-5cf39bdff07d",
   "metadata": {
    "id": "44d42448-67fc-4182-8348-5cf39bdff07d"
   },
   "outputs": [],
   "source": []
  },
  {
   "cell_type": "code",
   "execution_count": null,
   "id": "8d616c0d-398f-457b-b307-4e3453f2d1ac",
   "metadata": {
    "id": "8d616c0d-398f-457b-b307-4e3453f2d1ac"
   },
   "outputs": [],
   "source": []
  },
  {
   "cell_type": "code",
   "execution_count": null,
   "id": "20f7453e-36c8-43a5-8b6e-8e1444ec19a3",
   "metadata": {
    "id": "20f7453e-36c8-43a5-8b6e-8e1444ec19a3"
   },
   "outputs": [],
   "source": []
  },
  {
   "cell_type": "code",
   "execution_count": null,
   "id": "28198e2f-c24e-429b-b109-912147fd318e",
   "metadata": {},
   "outputs": [],
   "source": []
  },
  {
   "cell_type": "code",
   "execution_count": null,
   "id": "ac7d3810-ae5f-438c-b4ec-fa13fd6ea71b",
   "metadata": {},
   "outputs": [],
   "source": []
  },
  {
   "cell_type": "code",
   "execution_count": null,
   "id": "278cb1d8-3942-465d-9cdb-20061e657caa",
   "metadata": {},
   "outputs": [],
   "source": []
  },
  {
   "cell_type": "code",
   "execution_count": null,
   "id": "fd869f96-31df-4e6d-acd9-8775bd236056",
   "metadata": {
    "id": "fd869f96-31df-4e6d-acd9-8775bd236056"
   },
   "outputs": [],
   "source": []
  }
 ],
 "metadata": {
  "colab": {
   "provenance": []
  },
  "kernelspec": {
   "display_name": "pyqt5_kernel",
   "language": "python",
   "name": "pyqt5"
  },
  "language_info": {
   "codemirror_mode": {
    "name": "ipython",
    "version": 3
   },
   "file_extension": ".py",
   "mimetype": "text/x-python",
   "name": "python",
   "nbconvert_exporter": "python",
   "pygments_lexer": "ipython3",
   "version": "3.9.18"
  }
 },
 "nbformat": 4,
 "nbformat_minor": 5
}
